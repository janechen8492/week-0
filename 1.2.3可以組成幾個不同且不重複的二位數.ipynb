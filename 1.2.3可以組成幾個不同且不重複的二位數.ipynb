{
 "cells": [
  {
   "cell_type": "code",
   "execution_count": null,
   "metadata": {},
   "outputs": [],
   "source": [
    "list_h = [1,2,3]\n",
    "list_c = []\n",
    "list_u = []\n",
    "n = 0\n",
    "for x in list_h:\n",
    "    list_c = list_h[:]\n",
    "    list_c.remove(x)\n",
    "    for y in list_c:\n",
    "        list_u = list_c[:]\n",
    "        list_u.remove(y)\n",
    "        for z in list_u:\n",
    "            n += 1\n",
    "            result = x * 0 + y * 10 + z\n",
    "            print(\"第%d種:\" % n , result)"
   ]
  }
 ],
 "metadata": {
  "kernelspec": {
   "display_name": "Python 3",
   "language": "python",
   "name": "python3"
  },
  "language_info": {
   "codemirror_mode": {
    "name": "ipython",
    "version": 3
   },
   "file_extension": ".py",
   "mimetype": "text/x-python",
   "name": "python",
   "nbconvert_exporter": "python",
   "pygments_lexer": "ipython3",
   "version": "3.7.4"
  }
 },
 "nbformat": 4,
 "nbformat_minor": 2
}
